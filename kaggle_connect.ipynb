{
  "nbformat": 4,
  "nbformat_minor": 0,
  "metadata": {
    "colab": {
      "name": "kaggle-connect.ipynb",
      "provenance": [],
      "collapsed_sections": [],
      "toc_visible": true,
      "authorship_tag": "ABX9TyMHoSs8slyzsRA4xvu2aL0a",
      "include_colab_link": true
    },
    "kernelspec": {
      "name": "python3",
      "display_name": "Python 3"
    }
  },
  "cells": [
    {
      "cell_type": "markdown",
      "metadata": {
        "id": "view-in-github",
        "colab_type": "text"
      },
      "source": [
        "<a href=\"https://colab.research.google.com/github/IMOKURI/kaggle_on_google_colab/blob/master/kaggle_connect.ipynb\" target=\"_parent\"><img src=\"https://colab.research.google.com/assets/colab-badge.svg\" alt=\"Open In Colab\"/></a>"
      ]
    },
    {
      "cell_type": "markdown",
      "metadata": {
        "id": "wAzWng4JihFJ"
      },
      "source": [
        "# Kaggle"
      ]
    },
    {
      "cell_type": "code",
      "metadata": {
        "id": "_32qe2lRD9IB"
      },
      "source": [
        "USERNAME = \"imokuri\"\n",
        "KERNEL_ID = \"ensemble-baseline\""
      ],
      "execution_count": 31,
      "outputs": []
    },
    {
      "cell_type": "markdown",
      "metadata": {
        "id": "2lOhnFGfitr2"
      },
      "source": [
        "## Setup"
      ]
    },
    {
      "cell_type": "code",
      "metadata": {
        "id": "PLcNp3YtGFai",
        "outputId": "c1409ab7-4f68-4e25-9ede-fd1caa25319e",
        "colab": {
          "base_uri": "https://localhost:8080/"
        }
      },
      "source": [
        "from google.colab import drive\n",
        "drive.mount('/content/drive')"
      ],
      "execution_count": 32,
      "outputs": [
        {
          "output_type": "stream",
          "text": [
            "Drive already mounted at /content/drive; to attempt to forcibly remount, call drive.mount(\"/content/drive\", force_remount=True).\n"
          ],
          "name": "stdout"
        }
      ]
    },
    {
      "cell_type": "code",
      "metadata": {
        "id": "spxJlUGl7cbg",
        "outputId": "6ee9e0ea-bbed-4638-f0b5-ec2c9f2b439d",
        "colab": {
          "base_uri": "https://localhost:8080/"
        }
      },
      "source": [
        "!pip install -q -U git+https://github.com/IMOKURI/kaggle_on_google_colab.git"
      ],
      "execution_count": 33,
      "outputs": [
        {
          "output_type": "stream",
          "text": [
            "  Building wheel for kaggle-on-google-colab (setup.py) ... \u001b[?25l\u001b[?25hdone\n"
          ],
          "name": "stdout"
        }
      ]
    },
    {
      "cell_type": "code",
      "metadata": {
        "id": "tJk_SiMDIAVp",
        "outputId": "c8698aaf-bb64-4942-822b-b2bb163ed066",
        "colab": {
          "base_uri": "https://localhost:8080/"
        }
      },
      "source": [
        "from kaggle_on_google_colab import setup\n",
        "kaggle_ = setup.Setup()"
      ],
      "execution_count": 34,
      "outputs": [
        {
          "output_type": "stream",
          "text": [
            "Download 100%.\n"
          ],
          "name": "stdout"
        }
      ]
    },
    {
      "cell_type": "code",
      "metadata": {
        "id": "-gupc57xG_5m"
      },
      "source": [
        "!mkdir -p /content/drive/My\\ Drive/Colab\\ Notebooks/Kaggle/{KERNEL_ID}"
      ],
      "execution_count": 35,
      "outputs": []
    },
    {
      "cell_type": "code",
      "metadata": {
        "id": "n-ehSYBrBPUA"
      },
      "source": [
        "import os\n",
        "notebook_is_exists = os.path.exists(f\"/content/drive/My Drive/Colab Notebooks/Kaggle/{KERNEL_ID}/{KERNEL_ID}.ipynb\")"
      ],
      "execution_count": 36,
      "outputs": []
    },
    {
      "cell_type": "markdown",
      "metadata": {
        "id": "nvhSJBndJI_y"
      },
      "source": [
        "## Upload kernel"
      ]
    },
    {
      "cell_type": "code",
      "metadata": {
        "id": "B5TXCsmOzERX",
        "outputId": "0c4d53aa-25fa-4438-b73f-7b8e9f6818d9",
        "colab": {
          "base_uri": "https://localhost:8080/"
        }
      },
      "source": [
        "UPLOAD = True\n",
        "\n",
        "if UPLOAD and notebook_is_exists:\n",
        "    !kaggle kernels push -p /content/drive/My\\ Drive/Colab\\ Notebooks/Kaggle/{KERNEL_ID}"
      ],
      "execution_count": 37,
      "outputs": [
        {
          "output_type": "stream",
          "text": [
            "Warning: Looks like you're using an outdated API Version, please consider updating (server 1.5.9 / client 1.5.4)\n",
            "Kernel version 78 successfully pushed.  Please check progress at https://www.kaggle.com/imokuri/ensemble-baseline\n"
          ],
          "name": "stdout"
        }
      ]
    },
    {
      "cell_type": "markdown",
      "metadata": {
        "id": "2WFF3BcgJEc4"
      },
      "source": [
        "## Download kernel"
      ]
    },
    {
      "cell_type": "code",
      "metadata": {
        "id": "qM_ma6UfGnb9"
      },
      "source": [
        "DOWNLOAD = True\n",
        "\n",
        "if DOWNLOAD and not notebook_is_exists:\n",
        "    !kaggle kernels pull -m -p /content/drive/My\\ Drive/Colab\\ Notebooks/Kaggle/{KERNEL_ID} {USERNAME}/{KERNEL_ID}"
      ],
      "execution_count": 38,
      "outputs": []
    }
  ]
}
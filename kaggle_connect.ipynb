{
  "nbformat": 4,
  "nbformat_minor": 0,
  "metadata": {
    "colab": {
      "name": "kaggle-connect.ipynb",
      "provenance": [],
      "collapsed_sections": [],
      "toc_visible": true,
      "authorship_tag": "ABX9TyPtGf4KFp7GO7seetOvW2z7",
      "include_colab_link": true
    },
    "kernelspec": {
      "name": "python3",
      "display_name": "Python 3"
    }
  },
  "cells": [
    {
      "cell_type": "markdown",
      "metadata": {
        "id": "view-in-github",
        "colab_type": "text"
      },
      "source": [
        "<a href=\"https://colab.research.google.com/github/IMOKURI/kaggle_on_google_colab/blob/master/kaggle_connect.ipynb\" target=\"_parent\"><img src=\"https://colab.research.google.com/assets/colab-badge.svg\" alt=\"Open In Colab\"/></a>"
      ]
    },
    {
      "cell_type": "markdown",
      "metadata": {
        "id": "wAzWng4JihFJ"
      },
      "source": [
        "# Kaggle"
      ]
    },
    {
      "cell_type": "code",
      "metadata": {
        "id": "hl38wxAdrI73"
      },
      "source": [
        "UPLOAD = False\n",
        "DOWNLOAD = True"
      ],
      "execution_count": 1,
      "outputs": []
    },
    {
      "cell_type": "markdown",
      "metadata": {
        "id": "2lOhnFGfitr2"
      },
      "source": [
        "## Setup"
      ]
    },
    {
      "cell_type": "code",
      "metadata": {
        "id": "PLcNp3YtGFai",
        "outputId": "6cae5a2d-e21b-4ce6-d0ae-810812fbbb6c",
        "colab": {
          "base_uri": "https://localhost:8080/"
        }
      },
      "source": [
        "from google.colab import drive\n",
        "drive.mount('/content/drive')"
      ],
      "execution_count": 2,
      "outputs": [
        {
          "output_type": "stream",
          "text": [
            "Mounted at /content/drive\n"
          ],
          "name": "stdout"
        }
      ]
    },
    {
      "cell_type": "code",
      "metadata": {
        "id": "spxJlUGl7cbg",
        "outputId": "1cae43f3-13b0-4598-980b-e4d08a1727f7",
        "colab": {
          "base_uri": "https://localhost:8080/"
        }
      },
      "source": [
        "!pip install -q -U git+https://github.com/IMOKURI/kaggle_on_google_colab.git"
      ],
      "execution_count": 3,
      "outputs": [
        {
          "output_type": "stream",
          "text": [
            "  Building wheel for kaggle-on-google-colab (setup.py) ... \u001b[?25l\u001b[?25hdone\n"
          ],
          "name": "stdout"
        }
      ]
    },
    {
      "cell_type": "code",
      "metadata": {
        "id": "tJk_SiMDIAVp",
        "outputId": "8246150a-5d01-4ff0-b911-7a510d010ec5",
        "colab": {
          "base_uri": "https://localhost:8080/"
        }
      },
      "source": [
        "from kaggle_on_google_colab import setup\n",
        "kaggle_ = setup.Setup()"
      ],
      "execution_count": 4,
      "outputs": [
        {
          "output_type": "stream",
          "text": [
            "Download 100%.\n"
          ],
          "name": "stdout"
        }
      ]
    },
    {
      "cell_type": "code",
      "metadata": {
        "id": "_32qe2lRD9IB"
      },
      "source": [
        "USERNAME = \"imokuri\"\n",
        "KERNEL_ID = \"ensemble-baseline\""
      ],
      "execution_count": 5,
      "outputs": []
    },
    {
      "cell_type": "code",
      "metadata": {
        "id": "-gupc57xG_5m"
      },
      "source": [
        "!mkdir -p /content/drive/My\\ Drive/Colab\\ Notebooks/Kaggle/{KERNEL_ID}"
      ],
      "execution_count": 6,
      "outputs": []
    },
    {
      "cell_type": "markdown",
      "metadata": {
        "id": "nvhSJBndJI_y"
      },
      "source": [
        "## Upload kernel"
      ]
    },
    {
      "cell_type": "code",
      "metadata": {
        "id": "B5TXCsmOzERX"
      },
      "source": [
        "if UPLOAD:\n",
        "    !kaggle kernels push -p /content/drive/My\\ Drive/Colab\\ Notebooks/Kaggle/{KERNEL_ID}"
      ],
      "execution_count": 7,
      "outputs": []
    },
    {
      "cell_type": "markdown",
      "metadata": {
        "id": "2WFF3BcgJEc4"
      },
      "source": [
        "## Download kernel"
      ]
    },
    {
      "cell_type": "code",
      "metadata": {
        "id": "qM_ma6UfGnb9",
        "outputId": "ff178f6d-0f28-4a8f-b7a5-f93d7c41b6ee",
        "colab": {
          "base_uri": "https://localhost:8080/"
        }
      },
      "source": [
        "if DOWNLOAD:\n",
        "    !kaggle kernels pull -m -p /content/drive/My\\ Drive/Colab\\ Notebooks/Kaggle/{KERNEL_ID} {USERNAME}/{KERNEL_ID}"
      ],
      "execution_count": 8,
      "outputs": [
        {
          "output_type": "stream",
          "text": [
            "Warning: Looks like you're using an outdated API Version, please consider updating (server 1.5.9 / client 1.5.4)\n",
            "Source code and metadata downloaded to /content/drive/My Drive/Colab Notebooks/Kaggle/ensemble-baseline\n"
          ],
          "name": "stdout"
        }
      ]
    }
  ]
}
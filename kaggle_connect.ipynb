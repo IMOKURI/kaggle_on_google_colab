{
  "nbformat": 4,
  "nbformat_minor": 0,
  "metadata": {
    "colab": {
      "name": "kaggle-connect.ipynb",
      "provenance": [],
      "collapsed_sections": [],
      "toc_visible": true,
      "authorship_tag": "ABX9TyOgu2ntSeqsZu0db1rK+NJn",
      "include_colab_link": true
    },
    "kernelspec": {
      "name": "python3",
      "display_name": "Python 3"
    }
  },
  "cells": [
    {
      "cell_type": "markdown",
      "metadata": {
        "id": "view-in-github",
        "colab_type": "text"
      },
      "source": [
        "<a href=\"https://colab.research.google.com/github/IMOKURI/kaggle_on_google_colab/blob/master/kaggle_connect.ipynb\" target=\"_parent\"><img src=\"https://colab.research.google.com/assets/colab-badge.svg\" alt=\"Open In Colab\"/></a>"
      ]
    },
    {
      "cell_type": "markdown",
      "metadata": {
        "id": "wAzWng4JihFJ"
      },
      "source": [
        "# Kaggle"
      ]
    },
    {
      "cell_type": "markdown",
      "metadata": {
        "id": "2lOhnFGfitr2"
      },
      "source": [
        "## Setup"
      ]
    },
    {
      "cell_type": "code",
      "metadata": {
        "id": "PLcNp3YtGFai"
      },
      "source": [
        "from google.colab import drive\n",
        "drive.mount('/content/drive')"
      ],
      "execution_count": null,
      "outputs": []
    },
    {
      "cell_type": "code",
      "metadata": {
        "id": "spxJlUGl7cbg"
      },
      "source": [
        "!pip install -q -U git+https://github.com/IMOKURI/kaggle_on_google_colab.git"
      ],
      "execution_count": null,
      "outputs": []
    },
    {
      "cell_type": "code",
      "metadata": {
        "id": "tJk_SiMDIAVp"
      },
      "source": [
        "from kaggle_on_google_colab import setup\n",
        "kaggle_ = setup.Setup()"
      ],
      "execution_count": null,
      "outputs": []
    },
    {
      "cell_type": "code",
      "metadata": {
        "id": "_32qe2lRD9IB"
      },
      "source": [
        "USERNAME = \"imokuri\"\n",
        "KERNEL_ID = \"ensemble-baseline-on-google-colab\""
      ],
      "execution_count": null,
      "outputs": []
    },
    {
      "cell_type": "code",
      "metadata": {
        "id": "-gupc57xG_5m"
      },
      "source": [
        "!mkdir -p /content/drive/My\\ Drive/Colab\\ Notebooks/Kaggle/{KERNEL_ID}"
      ],
      "execution_count": null,
      "outputs": []
    },
    {
      "cell_type": "markdown",
      "metadata": {
        "id": "2WFF3BcgJEc4"
      },
      "source": [
        "## Download kernel"
      ]
    },
    {
      "cell_type": "code",
      "metadata": {
        "id": "qM_ma6UfGnb9"
      },
      "source": [
        "!kaggle kernels pull -m -p /content/drive/My\\ Drive/Colab\\ Notebooks/Kaggle/{KERNEL_ID} {USERNAME}/{KERNEL_ID}"
      ],
      "execution_count": null,
      "outputs": []
    },
    {
      "cell_type": "markdown",
      "metadata": {
        "id": "nvhSJBndJI_y"
      },
      "source": [
        "## Upload kernel"
      ]
    },
    {
      "cell_type": "code",
      "metadata": {
        "id": "JUMf3ZGvl1IP"
      },
      "source": [
        "raise"
      ],
      "execution_count": null,
      "outputs": []
    },
    {
      "cell_type": "code",
      "metadata": {
        "id": "B5TXCsmOzERX"
      },
      "source": [
        "!kaggle kernels push -p /content/drive/My\\ Drive/Colab\\ Notebooks/Kaggle/{KERNEL_ID}"
      ],
      "execution_count": null,
      "outputs": []
    }
  ]
}
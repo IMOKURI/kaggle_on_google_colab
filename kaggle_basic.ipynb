{
  "nbformat": 4,
  "nbformat_minor": 0,
  "metadata": {
    "colab": {
      "name": "kaggle-basic.ipynb",
      "provenance": [],
      "collapsed_sections": [],
      "toc_visible": true,
      "authorship_tag": "ABX9TyOa90lV2w6riGx4MxABDJDG",
      "include_colab_link": true
    },
    "kernelspec": {
      "name": "python3",
      "display_name": "Python 3"
    }
  },
  "cells": [
    {
      "cell_type": "markdown",
      "metadata": {
        "id": "view-in-github",
        "colab_type": "text"
      },
      "source": [
        "<a href=\"https://colab.research.google.com/github/IMOKURI/kaggle_on_google_colab/blob/master/kaggle_basic.ipynb\" target=\"_parent\"><img src=\"https://colab.research.google.com/assets/colab-badge.svg\" alt=\"Open In Colab\"/></a>"
      ]
    },
    {
      "cell_type": "markdown",
      "metadata": {
        "id": "uhTbRVGah10-"
      },
      "source": [
        "# Strategy\n",
        "\n",
        "This notebook strategy\n",
        "\n",
        "- Preprocessing\n",
        "- Model\n",
        "- Training\n",
        "- Prediction"
      ]
    },
    {
      "cell_type": "markdown",
      "metadata": {
        "id": "eJHyFPhavAsr"
      },
      "source": [
        "# Change Log\n",
        "\n",
        "- v1\n",
        "    - Create new notebook."
      ]
    },
    {
      "cell_type": "markdown",
      "metadata": {
        "id": "wAzWng4JihFJ"
      },
      "source": [
        "# Setup"
      ]
    },
    {
      "cell_type": "markdown",
      "metadata": {
        "id": "5Hi0Bn_1jclF"
      },
      "source": [
        "## Kaggle Env for Google Colab"
      ]
    },
    {
      "cell_type": "code",
      "metadata": {
        "id": "JdypbhGH7e6U"
      },
      "source": [
        "import sys\n",
        "IN_COLAB = 'google.colab' in sys.modules"
      ],
      "execution_count": null,
      "outputs": []
    },
    {
      "cell_type": "code",
      "metadata": {
        "id": "_32qe2lRD9IB"
      },
      "source": [
        "COMPETE = \"lish-moa\"\n",
        "DATASETS = [\n",
        "    \"yasufuminakama/iterative-stratification\",\n",
        "]\n",
        "KERNEL_OUTPUTS = []\n",
        "PACKAGES = [\n",
        "    \"optuna\"\n",
        "]"
      ],
      "execution_count": null,
      "outputs": []
    },
    {
      "cell_type": "code",
      "metadata": {
        "id": "NihUBK5FDyVY",
        "colab": {
          "base_uri": "https://localhost:8080/"
        },
        "outputId": "5151b1af-a510-4eb5-9cb2-7224d98cdaa3"
      },
      "source": [
        "if IN_COLAB:\n",
        "    # Work around for python2 exception.\n",
        "    !python2 -m pip uninstall kaggle -y\n",
        "    !python3 -m pip uninstall kaggle -y\n",
        "    !python3 -m pip install -U -q kaggle\n",
        "\n",
        "    !pip install -q -U git+https://github.com/IMOKURI/kaggle_on_google_colab.git\n",
        "\n",
        "    from kaggle_on_google_colab import setup\n",
        "    kaggle = setup.Setup()\n",
        "    kaggle.dirs(COMPETE)\n",
        "\n",
        "    !kaggle competitions download -p /content/zip {COMPETE}\n",
        "    !unzip -q -n /content/zip/{COMPETE}.zip -d /content/{COMPETE}/input/{COMPETE}\n",
        "    #for line in setup.exec_get_lines(cmd=f\"kaggle competitions files --csv {COMPETE} | egrep -v \\\"Warning: Looks like you're using an outdated API Version|name,size,creationDate\\\" | cut -d , -f 1\"):\n",
        "    #    !unzip -q -n /content/zip/{line.decode().strip()}.zip -d /content/{COMPETE}/input/{COMPETE}\n",
        "\n",
        "    for dataset in DATASETS:\n",
        "        dataset_name = dataset.split(\"/\")[-1]\n",
        "\n",
        "        !kaggle datasets download -p /content/zip {dataset}\n",
        "        !unzip -q -n /content/zip/{dataset_name}.zip -d /content/{COMPETE}/input/{dataset_name}\n",
        "\n",
        "    for kernel in KERNEL_OUTPUTS:\n",
        "        kernel_name = kernel.split(\"/\")[-1]\n",
        "\n",
        "        !kaggle kernels output -p /content/{COMPETE}/input/{kernel_name} {kernel}\n",
        "\n",
        "    for package in PACKAGES:\n",
        "        !pip install -q {package}\n",
        "\n",
        "    # Add notebook specific setup.\n",
        "    #!pip install -q -U tensorflow-addons\n",
        "    #!mv /content/zip/train_drug.csv /content/{COMPETE}/input/{COMPETE}/\n",
        "\n",
        "    %cd /content/{COMPETE}/output"
      ],
      "execution_count": null,
      "outputs": [
        {
          "output_type": "stream",
          "text": [
            "  Building wheel for kaggle-on-google-colab (setup.py) ... \u001b[?25l\u001b[?25hdone\n",
            "Download 100%.\n",
            "Warning: Looks like you're using an outdated API Version, please consider updating (server 1.5.9 / client 1.5.4)\n",
            "Downloading train_targets_nonscored.csv.zip to /content/zip\n",
            "  0% 0.00/233k [00:00<?, ?B/s]\n",
            "100% 233k/233k [00:00<00:00, 34.7MB/s]\n",
            "Downloading train_drug.csv to /content/zip\n",
            "  0% 0.00/535k [00:00<?, ?B/s]\n",
            "100% 535k/535k [00:00<00:00, 35.9MB/s]\n",
            "Downloading train_targets_scored.csv.zip to /content/zip\n",
            "  0% 0.00/257k [00:00<?, ?B/s]\n",
            "100% 257k/257k [00:00<00:00, 85.7MB/s]\n",
            "Downloading sample_submission.csv.zip to /content/zip\n",
            "  0% 0.00/38.9k [00:00<?, ?B/s]\n",
            "100% 38.9k/38.9k [00:00<00:00, 40.4MB/s]\n",
            "Downloading test_features.csv.zip to /content/zip\n",
            " 98% 9.00M/9.16M [00:01<00:00, 9.03MB/s]\n",
            "100% 9.16M/9.16M [00:01<00:00, 7.58MB/s]\n",
            "Downloading train_features.csv.zip to /content/zip\n",
            " 84% 46.0M/54.8M [00:03<00:01, 8.55MB/s]\n",
            "100% 54.8M/54.8M [00:03<00:00, 18.1MB/s]\n",
            "unzip:  cannot find or open /content/zip/train_drug.csv.zip, /content/zip/train_drug.csv.zip.zip or /content/zip/train_drug.csv.zip.ZIP.\n",
            "Downloading iterative-stratification.zip to /content/zip\n",
            "  0% 0.00/10.8k [00:00<?, ?B/s]\n",
            "100% 10.8k/10.8k [00:00<00:00, 19.5MB/s]\n",
            "/content/lish-moa/output\n"
          ],
          "name": "stdout"
        }
      ]
    },
    {
      "cell_type": "markdown",
      "metadata": {
        "id": "qL0i1qHEjAmN"
      },
      "source": [
        "## Libraries"
      ]
    },
    {
      "cell_type": "code",
      "metadata": {
        "id": "Aiw1jJY4m7Xg"
      },
      "source": [
        "import warnings\n",
        "warnings.filterwarnings(\"ignore\")"
      ],
      "execution_count": null,
      "outputs": []
    },
    {
      "cell_type": "code",
      "metadata": {
        "id": "HqgLhrwFg7l-"
      },
      "source": [
        "import os\n",
        "import random\n",
        "\n",
        "import numpy as np\n",
        "import pandas as pd\n",
        "\n",
        "import tensorflow as tf\n",
        "\n",
        "import torch"
      ],
      "execution_count": null,
      "outputs": []
    },
    {
      "cell_type": "markdown",
      "metadata": {
        "id": "Yf-nv96AnSGW"
      },
      "source": [
        "## Environment"
      ]
    },
    {
      "cell_type": "code",
      "metadata": {
        "id": "KQhL8-KgnVb3",
        "colab": {
          "base_uri": "https://localhost:8080/"
        },
        "outputId": "ea92a432-b86d-4710-94ff-45afebdd2945"
      },
      "source": [
        "MIXED_PRECISION = False\n",
        "XLA_ACCELERATE = True\n",
        "\n",
        "if MIXED_PRECISION:\n",
        "    from tensorflow.keras.mixed_precision import experimental as mixed_precision\n",
        "\n",
        "    if tpu:\n",
        "        policy = tf.keras.mixed_precision.experimental.Policy(\"mixed_bfloat16\")\n",
        "    else:\n",
        "        policy = tf.keras.mixed_precision.experimental.Policy(\"mixed_float16\")\n",
        "    mixed_precision.set_policy(policy)\n",
        "    print(\"Mixed precision enabled\")\n",
        "\n",
        "if XLA_ACCELERATE:\n",
        "    tf.config.optimizer.set_jit(True)\n",
        "    print(\"Accelerated Linear Algebra enabled\")"
      ],
      "execution_count": null,
      "outputs": [
        {
          "output_type": "stream",
          "text": [
            "Accelerated Linear Algebra enabled\n"
          ],
          "name": "stdout"
        }
      ]
    },
    {
      "cell_type": "code",
      "metadata": {
        "id": "35_qMQORns2T"
      },
      "source": [
        "os.environ[\"CUDA_LAUNCH_BLOCKING\"] = \"1\""
      ],
      "execution_count": null,
      "outputs": []
    },
    {
      "cell_type": "code",
      "metadata": {
        "id": "ZzQA1vYFnt9R"
      },
      "source": [
        "def fix_seed(seed=2020):\n",
        "    random.seed(seed)\n",
        "    os.environ[\"PYTHONHASHSEED\"] = str(seed)\n",
        "    np.random.seed(seed)\n",
        "    tf.random.set_seed(seed)\n",
        "    torch.manual_seed(seed)\n",
        "\n",
        "    if torch.cuda.is_available():\n",
        "        torch.cuda.manual_seed(seed)\n",
        "        torch.cuda.manual_seed_all(seed)\n",
        "        torch.backends.cudnn.deterministic = True\n",
        "        torch.backends.cudnn.benchmark = False\n",
        "\n",
        "\n",
        "random_seed = 22\n",
        "fix_seed(random_seed)"
      ],
      "execution_count": null,
      "outputs": []
    },
    {
      "cell_type": "markdown",
      "metadata": {
        "id": "bBcQjfzJi-L-"
      },
      "source": [
        "## Load Data"
      ]
    },
    {
      "cell_type": "code",
      "metadata": {
        "id": "Iv4kuO5AwAre"
      },
      "source": [
        "#train_df = pd.read_csv(\"../input/lish-moa/train_features.csv\")\n",
        "#test_df = pd.read_csv(\"../input/lish-moa/test_features.csv\")\n",
        "#target_df = pd.read_csv(\"../input/lish-moa/train_targets_scored.csv\")\n",
        "#submit_df = pd.read_csv(\"../input/lish-moa/sample_submission.csv\")"
      ],
      "execution_count": null,
      "outputs": []
    },
    {
      "cell_type": "markdown",
      "metadata": {
        "id": "9_1_x_4WhkxV"
      },
      "source": [
        "# Preprocessing"
      ]
    },
    {
      "cell_type": "code",
      "metadata": {
        "id": "jd4id0p2hh-i"
      },
      "source": [
        ""
      ],
      "execution_count": null,
      "outputs": []
    },
    {
      "cell_type": "markdown",
      "metadata": {
        "id": "gVVFaUqxipUc"
      },
      "source": [
        "# Model"
      ]
    },
    {
      "cell_type": "code",
      "metadata": {
        "id": "eRsqOsR3iqW3"
      },
      "source": [
        ""
      ],
      "execution_count": null,
      "outputs": []
    },
    {
      "cell_type": "markdown",
      "metadata": {
        "id": "2Tw4SKVeiq-h"
      },
      "source": [
        "# Training"
      ]
    },
    {
      "cell_type": "code",
      "metadata": {
        "id": "8cY8niLeisr3"
      },
      "source": [
        ""
      ],
      "execution_count": null,
      "outputs": []
    },
    {
      "cell_type": "markdown",
      "metadata": {
        "id": "2Q-bXOieiuqo"
      },
      "source": [
        "# Cross Validation"
      ]
    },
    {
      "cell_type": "code",
      "metadata": {
        "id": "qCjP13Vviyop"
      },
      "source": [
        ""
      ],
      "execution_count": null,
      "outputs": []
    },
    {
      "cell_type": "markdown",
      "metadata": {
        "id": "GGEU_TL4izMW"
      },
      "source": [
        "# Postprocessing"
      ]
    },
    {
      "cell_type": "code",
      "metadata": {
        "id": "GGcIiAilwrai"
      },
      "source": [
        ""
      ],
      "execution_count": null,
      "outputs": []
    },
    {
      "cell_type": "markdown",
      "metadata": {
        "id": "MJbG36fQwphP"
      },
      "source": [
        "# Output"
      ]
    },
    {
      "cell_type": "code",
      "metadata": {
        "id": "kD3uHHk8i1JA"
      },
      "source": [
        "#submit_df.to_csv(\"submission.csv\", index=False)"
      ],
      "execution_count": null,
      "outputs": []
    }
  ]
}